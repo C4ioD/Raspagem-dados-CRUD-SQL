{
 "cells": [
  {
   "attachments": {},
   "cell_type": "markdown",
   "metadata": {},
   "source": [
    "### PROJETO 1: Raspagem de dados com Selenium e carregando em um Banco de Dados com SQL"
   ]
  },
  {
   "attachments": {},
   "cell_type": "markdown",
   "metadata": {},
   "source": [
    "#### Neste projeto será utilizado o Site \"Books to Scrape\" que é um site fictício projetado especificamente para prática de raspagem de dados. Ele contém várias categorias de livros, com informaçöes como título, preço, etc...\n",
    "\n",
    "* Site: http://books.toscrape.com/index.html"
   ]
  },
  {
   "cell_type": "code",
   "execution_count": 1,
   "metadata": {},
   "outputs": [
    {
     "ename": "ValueError",
     "evalue": "There is no such driver by url https://chromedriver.storage.googleapis.com/118.0.5993/chromedriver_win32.zip",
     "output_type": "error",
     "traceback": [
      "\u001b[1;31m---------------------------------------------------------------------------\u001b[0m",
      "\u001b[1;31mValueError\u001b[0m                                Traceback (most recent call last)",
      "\u001b[1;32mc:\\Users\\Dell\\Desktop\\Repositorio de Projetos\\Projetos\\Raspagem de Dados + Ingregação SQL .ipynb Cell 3\u001b[0m line \u001b[0;36m8\n\u001b[0;32m      <a href='vscode-notebook-cell:/c%3A/Users/Dell/Desktop/Repositorio%20de%20Projetos/Projetos/Raspagem%20de%20Dados%20%2B%20Ingrega%C3%A7%C3%A3o%20SQL%20.ipynb#W2sZmlsZQ%3D%3D?line=4'>5</a>\u001b[0m \u001b[39mfrom\u001b[39;00m \u001b[39mwebdriver_manager\u001b[39;00m\u001b[39m.\u001b[39;00m\u001b[39mchrome\u001b[39;00m \u001b[39mimport\u001b[39;00m ChromeDriverManager\n\u001b[0;32m      <a href='vscode-notebook-cell:/c%3A/Users/Dell/Desktop/Repositorio%20de%20Projetos/Projetos/Raspagem%20de%20Dados%20%2B%20Ingrega%C3%A7%C3%A3o%20SQL%20.ipynb#W2sZmlsZQ%3D%3D?line=5'>6</a>\u001b[0m \u001b[39mfrom\u001b[39;00m \u001b[39mselenium\u001b[39;00m\u001b[39m.\u001b[39;00m\u001b[39mwebdriver\u001b[39;00m\u001b[39m.\u001b[39;00m\u001b[39mcommon\u001b[39;00m\u001b[39m.\u001b[39;00m\u001b[39mby\u001b[39;00m \u001b[39mimport\u001b[39;00m By\n\u001b[1;32m----> <a href='vscode-notebook-cell:/c%3A/Users/Dell/Desktop/Repositorio%20de%20Projetos/Projetos/Raspagem%20de%20Dados%20%2B%20Ingrega%C3%A7%C3%A3o%20SQL%20.ipynb#W2sZmlsZQ%3D%3D?line=7'>8</a>\u001b[0m servico \u001b[39m=\u001b[39m Service(ChromeDriverManager()\u001b[39m.\u001b[39;49minstall())\n\u001b[0;32m      <a href='vscode-notebook-cell:/c%3A/Users/Dell/Desktop/Repositorio%20de%20Projetos/Projetos/Raspagem%20de%20Dados%20%2B%20Ingrega%C3%A7%C3%A3o%20SQL%20.ipynb#W2sZmlsZQ%3D%3D?line=8'>9</a>\u001b[0m drive \u001b[39m=\u001b[39m webdriver\u001b[39m.\u001b[39mChrome(service\u001b[39m=\u001b[39mservico)\n",
      "File \u001b[1;32mc:\\Users\\Dell\\anaconda3\\lib\\site-packages\\webdriver_manager\\chrome.py:39\u001b[0m, in \u001b[0;36mChromeDriverManager.install\u001b[1;34m(self)\u001b[0m\n\u001b[0;32m     38\u001b[0m \u001b[39mdef\u001b[39;00m \u001b[39minstall\u001b[39m(\u001b[39mself\u001b[39m) \u001b[39m-\u001b[39m\u001b[39m>\u001b[39m \u001b[39mstr\u001b[39m:\n\u001b[1;32m---> 39\u001b[0m     driver_path \u001b[39m=\u001b[39m \u001b[39mself\u001b[39;49m\u001b[39m.\u001b[39;49m_get_driver_path(\u001b[39mself\u001b[39;49m\u001b[39m.\u001b[39;49mdriver)\n\u001b[0;32m     40\u001b[0m     os\u001b[39m.\u001b[39mchmod(driver_path, \u001b[39m0o755\u001b[39m)\n\u001b[0;32m     41\u001b[0m     \u001b[39mreturn\u001b[39;00m driver_path\n",
      "File \u001b[1;32mc:\\Users\\Dell\\anaconda3\\lib\\site-packages\\webdriver_manager\\core\\manager.py:30\u001b[0m, in \u001b[0;36mDriverManager._get_driver_path\u001b[1;34m(self, driver)\u001b[0m\n\u001b[0;32m     27\u001b[0m \u001b[39mif\u001b[39;00m binary_path:\n\u001b[0;32m     28\u001b[0m     \u001b[39mreturn\u001b[39;00m binary_path\n\u001b[1;32m---> 30\u001b[0m file \u001b[39m=\u001b[39m \u001b[39mself\u001b[39;49m\u001b[39m.\u001b[39;49m_download_manager\u001b[39m.\u001b[39;49mdownload_file(driver\u001b[39m.\u001b[39;49mget_url())\n\u001b[0;32m     31\u001b[0m binary_path \u001b[39m=\u001b[39m \u001b[39mself\u001b[39m\u001b[39m.\u001b[39mdriver_cache\u001b[39m.\u001b[39msave_file_to_cache(driver, file)\n\u001b[0;32m     32\u001b[0m \u001b[39mreturn\u001b[39;00m binary_path\n",
      "File \u001b[1;32mc:\\Users\\Dell\\anaconda3\\lib\\site-packages\\webdriver_manager\\core\\download_manager.py:28\u001b[0m, in \u001b[0;36mWDMDownloadManager.download_file\u001b[1;34m(self, url)\u001b[0m\n\u001b[0;32m     26\u001b[0m \u001b[39mdef\u001b[39;00m \u001b[39mdownload_file\u001b[39m(\u001b[39mself\u001b[39m, url: \u001b[39mstr\u001b[39m) \u001b[39m-\u001b[39m\u001b[39m>\u001b[39m File:\n\u001b[0;32m     27\u001b[0m     log(\u001b[39mf\u001b[39m\u001b[39m\"\u001b[39m\u001b[39mAbout to download new driver from \u001b[39m\u001b[39m{\u001b[39;00murl\u001b[39m}\u001b[39;00m\u001b[39m\"\u001b[39m)\n\u001b[1;32m---> 28\u001b[0m     response \u001b[39m=\u001b[39m \u001b[39mself\u001b[39;49m\u001b[39m.\u001b[39;49m_http_client\u001b[39m.\u001b[39;49mget(url)\n\u001b[0;32m     29\u001b[0m     \u001b[39mreturn\u001b[39;00m File(response)\n",
      "File \u001b[1;32mc:\\Users\\Dell\\anaconda3\\lib\\site-packages\\webdriver_manager\\core\\http.py:33\u001b[0m, in \u001b[0;36mWDMHttpClient.get\u001b[1;34m(self, url, **kwargs)\u001b[0m\n\u001b[0;32m     31\u001b[0m \u001b[39mdef\u001b[39;00m \u001b[39mget\u001b[39m(\u001b[39mself\u001b[39m, url, \u001b[39m*\u001b[39m\u001b[39m*\u001b[39mkwargs) \u001b[39m-\u001b[39m\u001b[39m>\u001b[39m Response:\n\u001b[0;32m     32\u001b[0m     resp \u001b[39m=\u001b[39m requests\u001b[39m.\u001b[39mget(url\u001b[39m=\u001b[39murl, verify\u001b[39m=\u001b[39m\u001b[39mself\u001b[39m\u001b[39m.\u001b[39m_ssl_verify, stream\u001b[39m=\u001b[39m\u001b[39mTrue\u001b[39;00m, \u001b[39m*\u001b[39m\u001b[39m*\u001b[39mkwargs)\n\u001b[1;32m---> 33\u001b[0m     \u001b[39mself\u001b[39;49m\u001b[39m.\u001b[39;49mvalidate_response(resp)\n\u001b[0;32m     34\u001b[0m     \u001b[39mif\u001b[39;00m wdm_progress_bar():\n\u001b[0;32m     35\u001b[0m         show_download_progress(resp)\n",
      "File \u001b[1;32mc:\\Users\\Dell\\anaconda3\\lib\\site-packages\\webdriver_manager\\core\\http.py:16\u001b[0m, in \u001b[0;36mHttpClient.validate_response\u001b[1;34m(resp)\u001b[0m\n\u001b[0;32m     14\u001b[0m status_code \u001b[39m=\u001b[39m resp\u001b[39m.\u001b[39mstatus_code\n\u001b[0;32m     15\u001b[0m \u001b[39mif\u001b[39;00m status_code \u001b[39m==\u001b[39m \u001b[39m404\u001b[39m:\n\u001b[1;32m---> 16\u001b[0m     \u001b[39mraise\u001b[39;00m \u001b[39mValueError\u001b[39;00m(\u001b[39mf\u001b[39m\u001b[39m\"\u001b[39m\u001b[39mThere is no such driver by url \u001b[39m\u001b[39m{\u001b[39;00mresp\u001b[39m.\u001b[39murl\u001b[39m}\u001b[39;00m\u001b[39m\"\u001b[39m)\n\u001b[0;32m     17\u001b[0m \u001b[39melif\u001b[39;00m status_code \u001b[39m==\u001b[39m \u001b[39m401\u001b[39m:\n\u001b[0;32m     18\u001b[0m     \u001b[39mraise\u001b[39;00m \u001b[39mValueError\u001b[39;00m(\u001b[39mf\u001b[39m\u001b[39m\"\u001b[39m\u001b[39mAPI Rate limit exceeded. You have to add GH_TOKEN!!!\u001b[39m\u001b[39m\"\u001b[39m)\n",
      "\u001b[1;31mValueError\u001b[0m: There is no such driver by url https://chromedriver.storage.googleapis.com/118.0.5993/chromedriver_win32.zip"
     ]
    }
   ],
   "source": [
    "# importando as biblióteca \n",
    "import pandas as pd\n",
    "from selenium import webdriver\n",
    "from selenium.webdriver.chrome.service import Service\n",
    "from webdriver_manager.chrome import ChromeDriverManager\n",
    "from selenium.webdriver.common.by import By\n",
    "\n",
    "servico = Service(ChromeDriverManager().install())\n",
    "drive = webdriver.Chrome(service=servico)\n"
   ]
  },
  {
   "cell_type": "code",
   "execution_count": 389,
   "metadata": {},
   "outputs": [],
   "source": [
    "site = \"http://books.toscrape.com/index.html\"\n",
    "drive.get(site)"
   ]
  },
  {
   "cell_type": "code",
   "execution_count": 390,
   "metadata": {},
   "outputs": [],
   "source": [
    "# Criando listas para armazenamento das informaçöes\n",
    "nome = []\n",
    "preco = []\n",
    "status = []"
   ]
  },
  {
   "cell_type": "code",
   "execution_count": 391,
   "metadata": {},
   "outputs": [],
   "source": [
    "#Pegando a quantidade de paginas do site\n",
    "resultado= int(drive.find_element(By.XPATH,'//*[@id=\"default\"]/div/div/div/div/form/strong[1]').text)\n",
    "mostrador = int(drive.find_element(By.XPATH,'//*[@id=\"default\"]/div/div/div/div/form/strong[3]').text)\n",
    "num_paginas = int(resultado/mostrador)"
   ]
  },
  {
   "cell_type": "code",
   "execution_count": 392,
   "metadata": {},
   "outputs": [],
   "source": [
    "# Realizando a raspagem dos dados selecionados\n",
    "import time\n",
    "i= 0 \n",
    "try:\n",
    "    while i <= num_paginas: \n",
    "        tabela = drive.find_element(By.XPATH,'//*[@id=\"default\"]/div/div/div/div/section/div[2]/ol')\n",
    "        livros = tabela.find_elements(By.CLASS_NAME, 'product_pod')\n",
    "        for livro  in livros:\n",
    "            h3 = livro.find_element(By.TAG_NAME,'h3')\n",
    "            nome.append(h3.find_element(By.TAG_NAME,'a').get_attribute('title'))\n",
    "            preco.append(livro.find_element(By.CLASS_NAME,'price_color').text)\n",
    "            status.append(livro.find_element(By.CLASS_NAME,'product_price').text[7:14])\n",
    "        page = drive.find_element(By.CLASS_NAME, 'pager')\n",
    "        page = page.find_element(By.CLASS_NAME,'next')\n",
    "        next = page.find_element(By.TAG_NAME, 'a').click()\n",
    "        time.sleep(1)\n",
    "        i += 1\n",
    "except:\n",
    "    pass\n"
   ]
  },
  {
   "cell_type": "code",
   "execution_count": 393,
   "metadata": {},
   "outputs": [
    {
     "data": {
      "text/plain": [
       "(80, 4)"
      ]
     },
     "metadata": {},
     "output_type": "display_data"
    },
    {
     "data": {
      "text/html": [
       "<div>\n",
       "<style scoped>\n",
       "    .dataframe tbody tr th:only-of-type {\n",
       "        vertical-align: middle;\n",
       "    }\n",
       "\n",
       "    .dataframe tbody tr th {\n",
       "        vertical-align: top;\n",
       "    }\n",
       "\n",
       "    .dataframe thead th {\n",
       "        text-align: right;\n",
       "    }\n",
       "</style>\n",
       "<table border=\"1\" class=\"dataframe\">\n",
       "  <thead>\n",
       "    <tr style=\"text-align: right;\">\n",
       "      <th></th>\n",
       "      <th>Nome</th>\n",
       "      <th>Status</th>\n",
       "      <th>Preço</th>\n",
       "      <th>Moeda</th>\n",
       "    </tr>\n",
       "  </thead>\n",
       "  <tbody>\n",
       "    <tr>\n",
       "      <th>0</th>\n",
       "      <td>A Light in the Attic</td>\n",
       "      <td>In stoc</td>\n",
       "      <td>51.77</td>\n",
       "      <td>£</td>\n",
       "    </tr>\n",
       "    <tr>\n",
       "      <th>1</th>\n",
       "      <td>Tipping the Velvet</td>\n",
       "      <td>In stoc</td>\n",
       "      <td>53.74</td>\n",
       "      <td>£</td>\n",
       "    </tr>\n",
       "    <tr>\n",
       "      <th>2</th>\n",
       "      <td>Soumission</td>\n",
       "      <td>In stoc</td>\n",
       "      <td>50.10</td>\n",
       "      <td>£</td>\n",
       "    </tr>\n",
       "    <tr>\n",
       "      <th>3</th>\n",
       "      <td>Sharp Objects</td>\n",
       "      <td>In stoc</td>\n",
       "      <td>47.82</td>\n",
       "      <td>£</td>\n",
       "    </tr>\n",
       "    <tr>\n",
       "      <th>4</th>\n",
       "      <td>Sapiens: A Brief History of Humankind</td>\n",
       "      <td>In stoc</td>\n",
       "      <td>54.23</td>\n",
       "      <td>£</td>\n",
       "    </tr>\n",
       "  </tbody>\n",
       "</table>\n",
       "</div>"
      ],
      "text/plain": [
       "                                    Nome   Status  Preço Moeda\n",
       "0                   A Light in the Attic  In stoc  51.77     £\n",
       "1                     Tipping the Velvet  In stoc  53.74     £\n",
       "2                             Soumission  In stoc  50.10     £\n",
       "3                          Sharp Objects  In stoc  47.82     £\n",
       "4  Sapiens: A Brief History of Humankind  In stoc  54.23     £"
      ]
     },
     "metadata": {},
     "output_type": "display_data"
    },
    {
     "data": {
      "text/html": [
       "<div>\n",
       "<style scoped>\n",
       "    .dataframe tbody tr th:only-of-type {\n",
       "        vertical-align: middle;\n",
       "    }\n",
       "\n",
       "    .dataframe tbody tr th {\n",
       "        vertical-align: top;\n",
       "    }\n",
       "\n",
       "    .dataframe thead th {\n",
       "        text-align: right;\n",
       "    }\n",
       "</style>\n",
       "<table border=\"1\" class=\"dataframe\">\n",
       "  <thead>\n",
       "    <tr style=\"text-align: right;\">\n",
       "      <th></th>\n",
       "      <th>Nome</th>\n",
       "      <th>Status</th>\n",
       "      <th>Preço</th>\n",
       "      <th>Moeda</th>\n",
       "    </tr>\n",
       "  </thead>\n",
       "  <tbody>\n",
       "    <tr>\n",
       "      <th>75</th>\n",
       "      <td>Security</td>\n",
       "      <td>In stoc</td>\n",
       "      <td>39.25</td>\n",
       "      <td>£</td>\n",
       "    </tr>\n",
       "    <tr>\n",
       "      <th>76</th>\n",
       "      <td>Saga, Volume 6 (Saga (Collected Editions) #6)</td>\n",
       "      <td>In stoc</td>\n",
       "      <td>25.02</td>\n",
       "      <td>£</td>\n",
       "    </tr>\n",
       "    <tr>\n",
       "      <th>77</th>\n",
       "      <td>Saga, Volume 5 (Saga (Collected Editions) #5)</td>\n",
       "      <td>In stoc</td>\n",
       "      <td>51.04</td>\n",
       "      <td>£</td>\n",
       "    </tr>\n",
       "    <tr>\n",
       "      <th>78</th>\n",
       "      <td>Reskilling America: Learning to Labor in the T...</td>\n",
       "      <td>In stoc</td>\n",
       "      <td>19.83</td>\n",
       "      <td>£</td>\n",
       "    </tr>\n",
       "    <tr>\n",
       "      <th>79</th>\n",
       "      <td>Rat Queens, Vol. 3: Demons (Rat Queens (Collec...</td>\n",
       "      <td>In stoc</td>\n",
       "      <td>50.40</td>\n",
       "      <td>£</td>\n",
       "    </tr>\n",
       "  </tbody>\n",
       "</table>\n",
       "</div>"
      ],
      "text/plain": [
       "                                                 Nome   Status  Preço Moeda\n",
       "75                                           Security  In stoc  39.25     £\n",
       "76      Saga, Volume 6 (Saga (Collected Editions) #6)  In stoc  25.02     £\n",
       "77      Saga, Volume 5 (Saga (Collected Editions) #5)  In stoc  51.04     £\n",
       "78  Reskilling America: Learning to Labor in the T...  In stoc  19.83     £\n",
       "79  Rat Queens, Vol. 3: Demons (Rat Queens (Collec...  In stoc  50.40     £"
      ]
     },
     "metadata": {},
     "output_type": "display_data"
    }
   ],
   "source": [
    "# Criando um DataFrame Pandas com os dados \n",
    "df = pd.DataFrame(columns=['Nome','Status','Preço'])\n",
    "df['Nome'] = nome\n",
    "df['Preço'] = preco\n",
    "df['Status'] = status\n",
    "df[['Moeda','Preço']]= df['Preço'].str.split(pat='£',regex=None,expand=True)\n",
    "df['Moeda'] = '£'\n",
    "display(df.shape) # Número de linhas / colunas\n",
    "display(df.head()) # Imprime as 5 primeiras linhas\n",
    "display(df.tail()) # Imprime as 5 ultimas linhas "
   ]
  },
  {
   "attachments": {},
   "cell_type": "markdown",
   "metadata": {},
   "source": [
    "## Realizando a integraçao com Banco de Dados SQL SERVER\n",
    "* Create (Criar) , Read (Ler), Update(atualizar) , Delete(apagar) "
   ]
  },
  {
   "cell_type": "code",
   "execution_count": 395,
   "metadata": {},
   "outputs": [],
   "source": [
    "import pyodbc"
   ]
  },
  {
   "cell_type": "code",
   "execution_count": 396,
   "metadata": {},
   "outputs": [
    {
     "name": "stdout",
     "output_type": "stream",
     "text": [
      "Conexão bem sucedida!\n"
     ]
    }
   ],
   "source": [
    "def conect_ao_banco(driver='SQL Server', server='DESKTOP-82IHFV4', data='Raspagem_Dados',username=None, passorwd=None,truested_connection='yes'):\\\n",
    "\n",
    "    string_conexao = f\"Driver={driver};Server={server};Database={data};UID={username};PWD={passorwd}; TRUSTED_CONNECTION={truested_connection}\"\n",
    "\n",
    "    conexao = pyodbc.connect(string_conexao)\n",
    "    cursor = conexao.cursor()\n",
    "    \n",
    "    return conexao,cursor\n",
    "\n",
    "conexao, cursor = conect_ao_banco()\n",
    "print(\"Conexão bem sucedida!\")"
   ]
  },
  {
   "cell_type": "code",
   "execution_count": 402,
   "metadata": {},
   "outputs": [],
   "source": [
    "for linha in df.index:\n",
    "    \n",
    "    nome = (df.loc[linha,'Nome']).replace(\"'\",'')\n",
    "    status = df.loc[linha,'Status']\n",
    "    preco = df.loc[linha,'Preço']\n",
    "    moeda= df.loc[linha,'Moeda']\n",
    "    cursor.execute(f\"INSERT INTO Raspagem(Nome,Status,Preco,Moeda) VALUES ('{nome}','{status}',{preco},'{moeda}')\")\n",
    "    cursor.commit()\n",
    "    \n",
    "    "
   ]
  },
  {
   "cell_type": "code",
   "execution_count": null,
   "metadata": {},
   "outputs": [],
   "source": [
    "conexao.close()"
   ]
  }
 ],
 "metadata": {
  "kernelspec": {
   "display_name": "base",
   "language": "python",
   "name": "python3"
  },
  "language_info": {
   "codemirror_mode": {
    "name": "ipython",
    "version": 3
   },
   "file_extension": ".py",
   "mimetype": "text/x-python",
   "name": "python",
   "nbconvert_exporter": "python",
   "pygments_lexer": "ipython3",
   "version": "3.10.9"
  },
  "orig_nbformat": 4
 },
 "nbformat": 4,
 "nbformat_minor": 2
}
