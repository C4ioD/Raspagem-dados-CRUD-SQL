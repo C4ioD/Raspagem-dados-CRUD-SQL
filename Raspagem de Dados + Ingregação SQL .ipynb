{
 "células" : [
  {
   "anexos" : {},
   "cell_type" : " remarcação " ,
   "metadados" : {},
   "fonte" : [
    " ### PROJETO 1: Raspagem de dados com Selenium e carregando em um Banco de Dados com SQL "
   ]
  },
  {
   "anexos" : {},
   "cell_type" : " remarcação " ,
   "metadados" : {},
   "fonte" : [
    " #### Neste projeto será utilizado o Site \" Books to Scrape \" que é um site projetado especificamente para prática de raspagem de dados. Ele contém várias categorias de livros, com informações como título, preço, etc... \n " ,
    " \n " ,
    " * Site: http://books.toscrape.com/index.html "
   ]
  },
  {
   "cell_type" : " código " ,
   "contagem_execução" : 1 ,
   "metadados" : {},
   "saídas" : [
    {
     "ename" : " ValueError " ,
     "evalue" : " Não existe tal driver por URL https://chromedriver.storage.googleapis.com/118.0.5993/chromedriver_win32.zip " ,
     "output_type" : " erro " ,
     "rastreamento" : [
      " \u001b [1;31m------------------------------------------- -------------------------------- \u001b [0m " ,
      " \u001b [1;31mValueError \u001b [0m Traceback (última chamada mais recente) " ,
      "\u001b[1;32mc:\\Users\\Dell\\Desktop\\Repositorio de Projetos\\Projetos\\Raspagem de Dados + Ingregação SQL .ipynb Cell 3[0m line \u001b[0;36m8\n \u001b[0;32m <a href='vscode-notebook-cell:/c%3A/Users/Dell/Desktop/Repositorio%20de%20Projetos/Projetos/Raspagem%20de%20Dados%20%2B%20Ingrega%C3% A7%C3%A3o%20SQL%20.ipynb#W2sZmlsZQ%3D%3D?line=4'>5</a>[0m \u001b[39mfrom\u001b[39;00m \u001b[39mwebdriver_manager\u001b[39 ;00m[39m.\u001b[39;00m\u001b[39mchrome\u001b[39;00m \u001b[39mimport\u001b[39;00m ChromeDriverManager\n\u001b[0;32m <a href='vscode-notebook -cell:/c%3A/Users/Dell/Desktop/Repositorio%20de%20Projetos/Projetos/Raspagem%20de%20Dados%20%2B%20Ingrega%C3%A7%C3%A3o%20SQL%20.ipynb#W2sZmlsZQ% 3D%3D?line=5'>6</a>\u001b[0m \u001b[39mfrom\u001b[39;00m \u001b[39mselênio\u001b[39;00m\u001b[39m.\u001b[39;00m\ u001b[39mwebdriver[39;00m[39m.\u001b[39;00m\u001b[39mcomum[39;00m\u001b[39m.\u001b[39;00m\u001b[39mby\u001b[39; 00m[39mimportar[39;00m Por\n\u001b[1;32m----> <a href='vscode-notebook-cell:/c%3A/Users/Dell/Desktop/Repositorio%20de %20Projetos/Projetos/Raspagem%20de%20Dados%20%2B%20Ingrega%C3%A7%C3%A3o%20SQL%20.ipynb#W2sZmlsZQ%3D%3D?line=7'>8</a>\u001b[ 0m serviço \u001b[39m=\u001b[39m Service(ChromeDriverManager()\u001b[39m.\u001b[39;49minstall())\n\u001b[0;32m <a href='vscode-notebook-cell:/ c%3A/Users/Dell/Desktop/Repositorio%20de%20Projetos/Projetos/Raspagem%20de%20Dados%20%2B%20Ingrega%C3%A7%C3%A3o%20SQL%20.ipynb#W2sZmlsZQ%3D%3D? line=8'>9</a>\u001b[0m drive \u001b[39m=\u001b[39m webdriver\u001b[39m.\u001b[39mChrome(service\u001b[39m=\u001b[39mservico)\n",
      " Arquivo \u001b [1;32mc: \\ Users \\ Dell \\ anaconda3 \\ lib \\ site-packages \\ webdriver_manager \\ chrome.py:39 \u001b [0m, in \u001b [0;36mChromeDriverManager.install \u001b [1;34m(self) \u001b [0m \n \u001b [0;32m 38 \u001b [0m \u001b [39mdef \u001b [39;00m \u001b [39minstall \u001b [39m( \u001b [39mself \ u001b [39m) \u001b [39m- \u001b [39m \u001b [39m> \u001b [39m \u001b [39mstr \u001b [39m: \n \u001b [1;32m---> 39 \u001b [0m driver_path \ u001b [39m= \u001b [39m \u001b [39mself \ u001b [39;49m \ u001b [39m. \u001b [39;49m_get_driver_path( \u001b [39mself \u001b [39 ;49m \u001b [39m. \u001b [39; 49mdriver) \n \u001b [0;32m 40 \u001b [0m os \u001b [39m. \u001b [39mchmod(driver_path, \u001b [39m0o755 \u001b [39m) \n \u001b [0;32m 41 \u001b [0m      \u001b [39mreturn \u001b [39;00m driver_path \n " ,
      " Arquivo \u001b [1;32mc: \\ Users \\ Dell \\ anaconda3 \\ lib \\ site-packages \\ webdriver_manager \\ core \\ manager.py:30 \u001b [0m, in \u001b [0; 36mDriverManager._get_driver_path \u001b [1;34m(self, driver) \u001b [0m \n \u001b [0;32m 27 \ u001b [0m \ u001b [39mif \u001b [39;00m caminho_binário: \n \u001b [0; 32m 28 \u001b [0m      \u001b [39mreturn \u001b [39;00m caminho_binário \n \u001b [1;32m---> 30 \u001b [0m arquivo \u001b [39m= \u001b [39m \u001b [39mself \u001b [39;49m \u001b [39m. \u001b [39;49m_download_manager \u001b [39m. \u001b [39;49mdownload_file(driver \u001b [39m. \u001b [39;49mget_url()) \n \u001b [0;32m] 31 \u001b [0m caminho_binário \u001b [39m= \u001b [39m \u001b [39mself \u001b [ 39m \u001b [39m. \u001b [39mdriver_cache \ u001b [ 39m . \u001b [39msave_file_to_cache(driver, arquivo] \n \u0 01b [0;32m 32 \u001b [0m \u001b [39mreturn \u001b [39;00m caminho_binário \n " ,
      " Arquivo \u001b [1;32mc: \\ Users \\ Dell \\ anaconda3 \\ lib \\ site-packages \\ webdriver_manager \\ core \\ download_manager.py:28 \u001b [0m, in \u001b [0; 36mWDMDownloadManager.download_file \u001b [1;34m(self, url) \u001b [0m \n \u001b [0;32m 26 \u001b [0m \u001b [39mdef \u001b [39;00m \u001b [39mdownload_file \u001b [39m( \u001b [39mself \u001b [39m, url: \u001b [39mstr \u001b [39m] \u001b [39m- \u001b [39m \u001b [39m> \u001b [39m Arquivo: \n \u001b [0;32m 27 \ u001b [0m log( \u001b [39mf \u001b [39m \u001b [39m \" \u001b [39m \u001b [39mSobre baixar o novo driver de \u001b [39m \u001b [39m{ \u001b [39;00murl \u001b [ 39m} \u001b [39;00m \u001b [39m \" \u001b [39m) \n \u001b [1;32m---> 28 \u001b [0m resposta \u001b [39m= \u001b [39m \u001b [39mself \u001b [39;49m \u001b [39m. \u001b [39;49m_http_client \u001b [39m. \u001b [39;49mget(url) \n \u001b [0;32m 29 \u001b [0m      \u001b [39mreturn \u001b [39;00m Arquivo(resposta) \n " ,
      " Arquivo \u001b [1;32mc: \\ Users \\ Dell \\ anaconda3 \\ lib \\ site-packages \\ webdriver_manager \\ core \\ http.py:33 \u001b [0m, in \u001b [0; 36mWDMHttpClient.get \u001b [1;34m(self, url, **kwargs) \u001b [0m \n \u001b [0;32m 31 \u001b [0m \ u001b [39mdef \u001b [39;00m \u001b [39mget \ u001b [39m( \u001b [39mself \u001b [39m, url, \u001b [39m* \u001b [39m \u001b [ 39m* \u001b [39mkwargs] \u001b [ 39m- \u001b [ 39m \u001b [39m] \u001b [39m Resposta: \n \u001b [0;32m 32 \u001b [0m resp \u001b [39m= \u001b [39m solicitações \u001b [39m. \u001b [39mget(url \u001b [39m= \u001b [39murl, verifique 001 b _ _ _ _ _ _ _ _ _ _ _ _ _ _ _ _ _ _ _ [39m* \u001b [39m \u001b [39m* \u001b [39mkwargs] \n \u001b [1;32m---> 33 \u001b [0m      \ u001b [39mself \u001b [39;49m \u001b [39m. \ u001b [39;49mvalidate_response(resp) \n \u001b [0;32m 34 \u001b [0m      \u001b [39mif \u001b [39;00m wdm_progress_bar(): \n \u001b [0;32m 35 \u001b [0m show_download_progress( resp) \n " ,
      "Arquivo [1;32mc:\\Users\\Dell\\anaconda3\\lib\\site-packages\\webdriver_manager\\core\\http.py:16\u001b[0m, in \u001b[0; 36mHttpClient.validate_response\u001b[1;34m(resp)\u001b[0m\n\u001b[0;32m 14\u001b[0m status_code \u001b[39m=\u001b[39m resp\u001b[39m.\u001b[39mstatus_code\ n[0;32m 15[0m \u001b[39mif\u001b[39;00m status_code \u001b[39m==\u001b[39m \u001b[39m404\u001b[39m:\n\u001b[1;32m ---> 16[0m \u001b[39mraise\u001b[39;00m \u001b[39mValueError\u001b[39;00m(\u001b[39mf\u001b[39m\u001b[39m\"\u001b[39m\u001b [39mNão existe esse driver por url [39m\u001b[39m{\u001b[39;00mresp\u001b[39m.\u001b[39murl\u001b[39m}\u001b[39;00m\u001b[39m\"\ u001b[39m)\n\u001b[0;32m 17\u001b[0m \u001b[39melif\u001b[39;00m status_code \u001b[39m==\u001b[39m \u001b[39m401\u001b[39m:\n\ u001b[0;32m 18\u001b[0m \u001b[39mraise\u001b[39;00m \u001b[39mValueError\u001b[39;00m(\u001b[39mf\u001b[39m\u001b[39m\"\u001b[39m\ u001b[Limite de taxa de 39mAPI excedido. Você deve adicionar GH_TOKEN!!!\u001b[39m\u001b[39m\"\u001b[39m)\n",
      " \u001b [1;31mValueError \u001b [0m: Esse driver não existe por URL https://chromedriver.storage.googleapis.com/118.0.5993/chromedriver_win32.zip "
     ]
    }
   ],
   "fonte" : [
    " # importando como biblioteca \n " ,
    " importar pandas como pd \n " ,
    " do webdriver de importação de selênio \n " ,
    " from selenium.webdriver.chrome.service serviço de importação \n " ,
    " from webdriver_manager.chrome importar ChromeDriverManager \n " ,
    " de selenium.webdriver.common.by importar por \n " ,
    " \n " ,
    " serviço = Service(ChromeDriverManager().install()) \n " ,
    " drive = webdriver.Chrome(service=servico) \n "
   ]
  },
  {
   "cell_type" : " código " ,
   "contagem_execução" : 389 ,
   "metadados" : {},
   "saídas" : [],
   "fonte" : [
    " site = \" http://books.toscrape.com/index.html \"\n " ,
    " unidade.get(site) "
   ]
  },
  {
   "cell_type" : " código " ,
   "contagem_execução" : 390 ,
   "metadados" : {},
   "saídas" : [],
   "fonte" : [
    " # Criando listas para armazenamento das informações \n " ,
    " nome = [] \n " ,
    " preco = [] \n " ,
    " estado = [] "
   ]
  },
  {
   "cell_type" : " código " ,
   "contagem_execução" : 391 ,
   "metadados" : {},
   "saídas" : [],
   "fonte" : [
    " #Pegando a quantidade de páginas do site \n " ,
    " resultado= int(drive.find_element(By.XPATH,'//*[@id= \" default \" ]/div/div/div/div/form/strong[1]').text) \n " ,
    " mostrador = int(drive.find_element(By.XPATH,'//*[@id= \" default \" ]/div/div/div/div/form/strong[3]').text) \n " ,
    " num_paginas = int(resultado/mostrador) "
   ]
  },
  {
   "cell_type" : " código " ,
   "contagem_execução" : 392 ,
   "metadados" : {},
   "saídas" : [],
   "fonte" : [
    " # Realizando a raspagem dos dados selecionados \n " ,
    " tempo de importação \n " ,
    " eu= 0 \n " ,
    " tente: \n " ,
    "     enquanto eu <= num_paginas: \n " ,
    "         tabela = drive.find_element(By.XPATH,'//*[@id= \" default \" ]/div/div/div/div/section/div[2]/ol') \n " ,
    "         livros = tabela.find_elements(By.CLASS_NAME, 'product_pod') \n " ,
    "         para livro em livros: \n " ,
    "             h3 = livro.find_element(By.TAG_NAME,'h3') \n " ,
    "             nome.append(h3.find_element(By.TAG_NAME,'a').get_attribute('title')) \n " ,
    "             preco.append(livro.find_element(By.CLASS_NAME,'price_color').text) \n " ,
    "             status.append(livro.find_element(By.CLASS_NAME,'product_price').text[7:14]) \n " ,
    "         page = drive.find_element(By.CLASS_NAME, 'pager') \n " ,
    "         página = página.find_element(By.CLASS_NAME,'next') \n " ,
    "         próximo = page.find_element(By.TAG_NAME, 'a').click() \n " ,
    "         time.sleep(1) \n " ,
    "         eu += 1 \n " ,
    " exceto: \n " ,
    "     passar \n "
   ]
  },
  {
   "cell_type" : " código " ,
   "contagem_execução" : 393 ,
   "metadados" : {},
   "saídas" : [
    {
     "dados" : {
      "texto/simples" : [
       " (80, 4) "
      ]
     },
     "metadados" : {},
     "output_type" : " display_data "
    },
    {
     "dados" : {
      "texto/html" : [
       " <div> \n " ,
       " <estilo com escopo> \n " ,
       "     .dataframe tbody tr th:only-of-type { \n " ,
       "         alinhamento vertical: meio; \n " ,
       "     } \n " ,
       " \n " ,
       "     .dataframe tbody tr th { \n " ,
       "         alinhamento vertical: topo; \n " ,
       "     } \n " ,
       " \n " ,
       "     .dataframe thead th { \n " ,
       "         alinhamento de texto: à direita; \n " ,
       "     } \n " ,
       " </style> \n " ,
       " <table border= \" 1 \" class= \" dataframe \" > \n " ,
       "   <thead> \n " ,
       "     <tr estilo= \" alinhamento de texto: direita; \" > \n " ,
       "       <th></th> \n " ,
       "       <th>Nome</th> \n " ,
       "       <th>Status</th> \n " ,
       "       <th>Preço</th> \n " ,
       "       <th>Moeda</th> \n " ,
       "     </tr> \n " ,
       "   </thead> \n " ,
       "   <tbody> \n " ,
       "     <tr> \n " ,
       "       <th>0</th> \n " ,
       "       <td>Uma luz no sótão</td> \n " ,
       "       <td>Em estoque</td> \n " ,
       "       <td>51,77</td> \n " ,
       "       <td>£</td> \n " ,
       "     </tr> \n " ,
       "     <tr> \n " ,
       "       <th>1</th> \n " ,
       "       <td>Derrubando o Veludo</td> \n " ,
       "       <td>Em estoque</td> \n " ,
       "       <td>53,74</td> \n " ,
       "       <td>£</td> \n " ,
       "     </tr> \n " ,
       "     <tr> \n " ,
       "       <th>2</th> \n " ,
       "       <td>Soumissão</td> \n " ,
       "       <td>Em estoque</td> \n " ,
       "       <td>50,10</td> \n " ,
       "       <td>£</td> \n " ,
       "     </tr> \n " ,
       "     <tr> \n " ,
       "       <th>3</th> \n " ,
       "       <td>Objetos pontiagudos</td> \n " ,
       "       <td>Em estoque</td> \n " ,
       "       <td>47,82</td> \n " ,
       "       <td>£</td> \n " ,
       "     </tr> \n " ,
       "     <tr> \n " ,
       "       <th>4</th> \n " ,
       "       <td>Sapiens: Uma Breve História da Humanidade</td> \n " ,
       "       <td>Em estoque</td> \n " ,
       "       <td>54,23</td> \n " ,
       "       <td>£</td> \n " ,
       "     </tr> \n " ,
       "   </tbody> \n " ,
       " </table> \n " ,
       " </div> "
      ],
      "texto/simples" : [
       "                                     Nome Status Preço Moeda \n " ,
       " 0 Uma Luz no Sótão Em estoque 51,77 £ \n " ,
       " 1 Derrubando o veludo em estoque 53,74 £ \n " ,
       " 2 Soumissão em estoque 50,10 £ \n " ,
       " 3 objetos pontiagudos em estoque 47,82 £ \n " ,
       " 4 Sapiens: Uma Breve História da Humanidade Em estoque 54,23 £ "
      ]
     },
     "metadados" : {},
     "output_type" : " display_data "
    },
    {
     "dados" : {
      "texto/html" : [
       " <div> \n " ,
       " <estilo com escopo> \n " ,
       "     .dataframe tbody tr th:only-of-type { \n " ,
       "         alinhamento vertical: meio; \n " ,
       "     } \n " ,
       " \n " ,
       "     .dataframe tbody tr th { \n " ,
       "         alinhamento vertical: topo; \n " ,
       "     } \n " ,
       " \n " ,
       "     .dataframe thead th { \n " ,
       "         alinhamento de texto: à direita; \n " ,
       "     } \n " ,
       " </style> \n " ,
       " <table border= \" 1 \" class= \" dataframe \" > \n " ,
       "   <thead> \n " ,
       "     <tr estilo= \" alinhamento de texto: direita; \" > \n " ,
       "       <th></th> \n " ,
       "       <th>Nome</th> \n " ,
       "       <th>Status</th> \n " ,
       "       <th>Preço</th> \n " ,
       "       <th>Moeda</th> \n " ,
       "     </tr> \n " ,
       "   </thead> \n " ,
       "   <tbody> \n " ,
       "     <tr> \n " ,
       "       <th>75</th> \n " ,
       "       <td>Segurança</td> \n " ,
       "       <td>Em estoque</td> \n " ,
       "       <td>39,25</td> \n " ,
       "       <td>£</td> \n " ,
       "     </tr> \n " ,
       "     <tr> \n " ,
       "       <th>76</th> \n " ,
       "       <td>Saga, Volume 6 (Saga (Edições Colecionadas) #6)</td> \n " ,
       "       <td>Em estoque</td> \n " ,
       "       <td>25.02</td> \n " ,
       "       <td>£</td> \n " ,
       "     </tr> \n " ,
       "     <tr> \n " ,
       "       <th>77</th> \n " ,
       "       <td>Saga, Volume 5 (Saga (Edições Colecionadas) #5)</td> \n " ,
       "       <td>Em estoque</td> \n " ,
       "       <td>51.04</td> \n " ,
       "       <td>£</td> \n " ,
       "     </tr> \n " ,
       "     <tr> \n " ,
       "       <th>78</th> \n " ,
       "       <td>Requalificando a América: Aprendendo a Trabalhar no T...</td> \n " ,
       "       <td>Em estoque</td> \n " ,
       "       <td>19,83</td> \n " ,
       "       <td>£</td> \n " ,
       "     </tr> \n " ,
       "     <tr> \n " ,
       "       <th>79</th> \n " ,
       "       <td>Rat Queens, Vol. 3: Demônios (Rat Queens (Coleção...</td> \n " ,
       "       <td>Em estoque</td> \n " ,
       "       <td>50,40</td> \n " ,
       "       <td>£</td> \n " ,
       "     </tr> \n " ,
       "   </tbody> \n " ,
       " </table> \n " ,
       " </div> "
      ],
      "texto/simples" : [
       "                                                  Nome Status Preço Moeda \n " ,
       " 75 Segurança em estoque 39,25 £ \n " ,
       " 76 Saga, Volume 6 (Saga (Edições Colecionadas) #6) Em estoque 25,02 £ \n " ,
       " 77 Saga, Volume 5 (Saga (Edições Colecionadas) #5) Em estoque 51.04 £ \n " ,
       " 78 Requalificando a América: Aprendendo a Trabalhar no T... In stoc 19.83 £ \n " ,
       " 79 Rat Queens, Vol. 3: Demons (Rat Queens (Coleção... Em estoque 50,40 £ "
      ]
     },
     "metadados" : {},
     "output_type" : " display_data "
    }
   ],
   "fonte" : [
    " # Criando um DataFrame Pandas com os dados \n " ,
    " df = pd.DataFrame(columns=['Nome','Status','Preço']) \n " ,
    " df['Nome'] = nome \n " ,
    " df['Preço'] = preço \n " ,
    " df['Status'] = status \n " ,
    " df[['Moeda','Preço']]= df['Preço'].str.split(pat='£',regex=None,expand=True) \n " ,
    " df['Moeda'] = '£' \n " ,
    " display(df.shape) # Número de linhas / colunas \n " ,
    " display(df.head()) # Imprime as 5 primeiras linhas \n " ,
    " display(df.tail()) # Imprime as 5 últimas linhas "
   ]
  },
  {
   "anexos" : {},
   "cell_type" : " remarcação " ,
   "metadados" : {},
   "fonte" : [
    " ## Realizando a integração com Banco de Dados SQL SERVER \n " ,
    " * Criar (Criar), Ler (Ler), Atualizar(atualizar) , Excluir(apagar) "
   ]
  },
  {
   "cell_type" : " código " ,
   "contagem_execução" : 395 ,
   "metadados" : {},
   "saídas" : [],
   "fonte" : [
    " importar pyodbc "
   ]
  },
  {
   "cell_type" : " código " ,
   "contagem_execução" : 396 ,
   "metadados" : {},
   "saídas" : [
    {
     "nome" : " stdout " ,
     "output_type" : " fluxo " ,
     "texto" : [
      " Conexão bem sucedida! \n "
     ]
    }
   ],
   "fonte" : [
    " def conect_ao_banco(driver='SQL Server', server='DESKTOP-82IHFV4', data='Raspagem_Dados',username=None, passorwd=None,truested_connection='yes'): \\\n " ,
    " \n " ,
    "     string_conexao = f \" Driver={driver};Servidor={servidor};Banco de dados={dados};UID={nomedeusuário};PWD={passorwd}; TRUSTED_CONNECTION={truested_connection} \"\n " ,
    " \n " ,
    "     conexao = pyodbc.connect(string_conexao) \n " ,
    "     cursor = conexão.cursor() \n " ,
    "     \n " ,
    "     return conexão,cursor \n " ,
    " \n " ,
    " conexão, cursor = conect_ao_banco() \n " ,
    " print( \" Conexão bem sucedida! \" ) "
   ]
  },
  {
   "cell_type" : " código " ,
   "contagem_execução" : 402 ,
   "metadados" : {},
   "saídas" : [],
   "fonte" : [
    " for linha in df.index: \n " ,
    "     \n " ,
    "     nome = (df.loc[linha,'Nome']).replace( \" ' \" ,'') \n " ,
    "     status = df.loc[linha,'Status'] \n " ,
    "     preço = df.loc[linha,'Preço'] \n " ,
    "     moeda= df.loc[linha,'Moeda'] \n " ,
    "     cursor.execute(f \" INSERT INTO Raspagem(Nome,Status,Preco,Moeda) VALUES ('{nome}','{status}',{preco},'{moeda}') \" ) \ n " ,
    "     cursor.commit() \n " ,
    "     \n " ,
    "     "
   ]
  },
  {
   "cell_type" : " código " ,
   "execution_count" : nulo ,
   "metadados" : {},
   "saídas" : [],
   "fonte" : [
    " conexao.close() "
   ]
  }
],
 "metadados" : {
  "kernelspec" : {
   "nome_exibição" : " base " ,
   "linguagem" : " python " ,
   "nome" : " python3 "
  },
  "informações_idioma" : {
   "codemirror_mode" : {
    "nome" : " ipython " ,
    "versão" : 3
   },
   "extensão_de_arquivo" : " .py " ,
   "mimetype" : " texto/x-python " ,
   "nome" : " python " ,
   "nbconvert_exporter" : " python " ,
   "pygments_lexer" : " ipython3 " ,
   "versão" : " 3.10.9 "
  },
  "orig_nbformato" : 4
},
 "nbformato" : 4 ,
 "nbformat_minor" : 2
}
